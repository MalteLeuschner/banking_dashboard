{
 "cells": [
  {
   "cell_type": "code",
   "execution_count": 1,
   "outputs": [],
   "source": [
    "import pandas as pd"
   ],
   "metadata": {
    "collapsed": false,
    "pycharm": {
     "name": "#%%\n"
    }
   }
  },
  {
   "cell_type": "code",
   "execution_count": 62,
   "outputs": [],
   "source": [
    "PATH = \"../data/1019082310.csv\""
   ],
   "metadata": {
    "collapsed": false,
    "pycharm": {
     "name": "#%%\n"
    }
   }
  },
  {
   "cell_type": "code",
   "execution_count": 63,
   "outputs": [
    {
     "data": {
      "text/plain": "Index(['Buchungstag', 'Wertstellung', 'Buchungstext',\n       'Auftraggeber / Begünstigter', 'Verwendungszweck', 'Kontonummer', 'BLZ',\n       'Betrag (EUR)', 'Gläubiger-ID', 'Mandatsreferenz', 'Kundenreferenz',\n       'Unnamed: 11'],\n      dtype='object')"
     },
     "execution_count": 63,
     "metadata": {},
     "output_type": "execute_result"
    }
   ],
   "source": [
    "df = pd.read_csv(PATH, sep=';', encoding='iso8859_15', header = 4)\n",
    "df.columns"
   ],
   "metadata": {
    "collapsed": false,
    "pycharm": {
     "name": "#%%\n"
    }
   }
  },
  {
   "cell_type": "code",
   "execution_count": 64,
   "outputs": [],
   "source": [
    "df[\"Buchungstag\"] = pd.to_datetime(df[\"Buchungstag\"], infer_datetime_format=True)\n",
    "df[\"Wertstellung\"] = pd.to_datetime(df[\"Wertstellung\"], infer_datetime_format=True)\n",
    "df[\"Buchungstext\"] = df[\"Buchungstext\"].astype(\"str\")\n",
    "df[\"Auftraggeber / Begünstigter\"] = df[\"Auftraggeber / Begünstigter\"].astype(\"str\")\n",
    "df[\"Verwendungszweck\"] = df[\"Verwendungszweck\"].astype(\"str\")\n",
    "df[\"Kontonummer\"] = df[\"Kontonummer\"].astype(\"str\")\n",
    "df[\"BLZ\"] = df[\"BLZ\"].astype(\"str\")\n",
    "df[\"Gläubiger-ID\"] = df[\"Gläubiger-ID\"].astype(\"str\")\n",
    "df[\"Mandatsreferenz\"] = df[\"Mandatsreferenz\"].astype(\"str\")\n",
    "df[\"Kundenreferenz\"] = df[\"Kundenreferenz\"].astype(\"str\")\n",
    "df[\"Betrag (EUR)\"] = (\n",
    "    df[\"Betrag (EUR)\"]\n",
    "    .apply(lambda row: row\n",
    "           .replace('.', '')\n",
    "           .replace(',', '.'))\n",
    "    .astype(float)\n",
    ")\n",
    "df = df.iloc[: , :-1]\n",
    "df = df.replace('nan', pd.NA)"
   ],
   "metadata": {
    "collapsed": false,
    "pycharm": {
     "name": "#%%\n"
    }
   }
  },
  {
   "cell_type": "code",
   "execution_count": 65,
   "outputs": [
    {
     "data": {
      "text/plain": "Buchungstag                    datetime64[ns]\nWertstellung                   datetime64[ns]\nBuchungstext                           object\nAuftraggeber / Begünstigter            object\nVerwendungszweck                       object\nKontonummer                            object\nBLZ                                    object\nBetrag (EUR)                          float64\nGläubiger-ID                           object\nMandatsreferenz                        object\nKundenreferenz                         object\ndtype: object"
     },
     "execution_count": 65,
     "metadata": {},
     "output_type": "execute_result"
    }
   ],
   "source": [
    "df.dtypes"
   ],
   "metadata": {
    "collapsed": false,
    "pycharm": {
     "name": "#%%\n"
    }
   }
  },
  {
   "cell_type": "code",
   "execution_count": 70,
   "outputs": [
    {
     "data": {
      "text/plain": "Buchungstag  Buchungstag\n2019         6              4934.69\n             7             -3167.68\n             8              -551.03\n             9             -1431.97\n             10             2262.97\n             11             1394.03\n             12              826.40\n2020         1             -3969.97\n             2                67.03\n             3              -190.93\n             4               311.72\n             5              2003.83\n             6             -2497.53\n             7              -789.39\n             8              -672.65\n             9              -254.12\n             10             5370.94\n             11            -1692.57\n             12             -633.22\n2021         1              1373.26\n             2              1418.22\n             3              1855.78\n             4             -1456.74\n             5              5010.35\n             6              1984.42\n             7               555.61\n             8             -1951.23\n             9              -185.48\n             10            -5325.22\n             11            -3824.21\n             12              293.68\n2022         1              3710.58\n             2              -437.32\n             3               213.03\n             4                11.09\n             5              -881.44\nName: Betrag (EUR), dtype: float64"
     },
     "execution_count": 70,
     "metadata": {},
     "output_type": "execute_result"
    }
   ],
   "source": [
    "df.groupby([df.Buchungstag.dt.year,df.Buchungstag.dt.month])[\"Betrag (EUR)\"].sum()"
   ],
   "metadata": {
    "collapsed": false,
    "pycharm": {
     "name": "#%%\n"
    }
   }
  },
  {
   "cell_type": "code",
   "execution_count": null,
   "outputs": [],
   "source": [],
   "metadata": {
    "collapsed": false,
    "pycharm": {
     "name": "#%%\n"
    }
   }
  }
 ],
 "metadata": {
  "kernelspec": {
   "name": "banking_dashboard",
   "language": "python",
   "display_name": "banking_dashboard"
  },
  "language_info": {
   "codemirror_mode": {
    "name": "ipython",
    "version": 2
   },
   "file_extension": ".py",
   "mimetype": "text/x-python",
   "name": "python",
   "nbconvert_exporter": "python",
   "pygments_lexer": "ipython2",
   "version": "2.7.6"
  }
 },
 "nbformat": 4,
 "nbformat_minor": 0
}